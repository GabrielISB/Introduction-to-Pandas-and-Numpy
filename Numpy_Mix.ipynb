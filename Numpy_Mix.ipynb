{
 "cells": [
  {
   "cell_type": "markdown",
   "metadata": {},
   "source": [
    "# Vectorization "
   ]
  },
  {
   "cell_type": "code",
   "execution_count": 3,
   "metadata": {},
   "outputs": [
    {
     "data": {
      "text/plain": [
       "6"
      ]
     },
     "execution_count": 3,
     "metadata": {},
     "output_type": "execute_result"
    }
   ],
   "source": [
    "import numpy as np\n",
    "\n",
    "# multiply 2 with each number in the array\n",
    "2 * np.array([2, 3, 4])\n",
    "array = ([4, 6, 8])\n",
    "\n",
    "# subtract the corresponding entries of the two arrays\n",
    "np.array([10.2, 3.5, -0.9]) - np.array([8.2, 3.5, 6.5])\n",
    "array = ([ 2. ,  0. , -7.4])\n",
    "\n",
    "# Take the \"dot product\" of the two arrays\n",
    "# \"dot product\" means: multiply their corresponding entries and sum the result\n",
    "np.dot(np.array([1, -3, 4]), np.array([2, 0, 1]))"
   ]
  },
  {
   "cell_type": "code",
   "execution_count": 11,
   "metadata": {},
   "outputs": [
    {
     "name": "stdout",
     "output_type": "stream",
     "text": [
      "[1.         2.71828183 7.3890561 ]\n",
      "[[ 1  4]\n",
      " [ 9 16]]\n"
     ]
    }
   ],
   "source": [
    "import numpy as np\n",
    "x = np.array([0., 1., 2.])\n",
    "\n",
    "# produces array([exp(0.), exp(1.), exp(2.)])\n",
    "# x is not overwritten by this; a new array\n",
    "# is created\n",
    "print(np.exp(x))\n",
    "array  = ([ 1. ,  2.71828183,  7.3890561 ])\n",
    "\n",
    "# example of a unary function operating on a 2D array\n",
    "y = np.array([[-1, 2], [-3, 4]])\n",
    "y\n",
    "array = ([[-1,  2], [-3,  4]])\n",
    "\n",
    "print(np.square(y))  # equivalent to: `y**2`\n",
    "array = ([[ 1,  4], [ 9, 16]])"
   ]
  },
  {
   "cell_type": "code",
   "execution_count": null,
   "metadata": {},
   "outputs": [],
   "source": []
  }
 ],
 "metadata": {
  "kernelspec": {
   "display_name": "Python 3",
   "language": "python",
   "name": "python3"
  },
  "language_info": {
   "codemirror_mode": {
    "name": "ipython",
    "version": 3
   },
   "file_extension": ".py",
   "mimetype": "text/x-python",
   "name": "python",
   "nbconvert_exporter": "python",
   "pygments_lexer": "ipython3",
   "version": "3.7.5"
  }
 },
 "nbformat": 4,
 "nbformat_minor": 2
}
