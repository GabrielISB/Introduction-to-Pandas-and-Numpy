{
 "cells": [
  {
   "cell_type": "markdown",
   "metadata": {},
   "source": [
    "# Pandas Path\n"
   ]
  },
  {
   "cell_type": "code",
   "execution_count": 10,
   "metadata": {},
   "outputs": [
    {
     "name": "stdout",
     "output_type": "stream",
     "text": [
      "0.25.3\n",
      "{'system': {'commit': None, 'python': '3.7.5.final.0', 'python-bits': 64, 'OS': 'Windows', 'OS-release': '10', 'machine': 'AMD64', 'processor': 'AMD64 Family 23 Model 24 Stepping 1, AuthenticAMD', 'byteorder': 'little', 'LC_ALL': 'None', 'LANG': 'None', 'LOCALE': 'None.None'}, 'dependencies': {'pandas': '0.25.3', 'numpy': '1.17.4', 'pytz': '2019.3', 'dateutil': '2.8.1', 'pip': '19.2.3', 'setuptools': '41.2.0', 'Cython': None, 'pytest': None, 'hypothesis': None, 'sphinx': None, 'blosc': None, 'feather': None, 'xlsxwriter': None, 'lxml.etree': None, 'html5lib': None, 'pymysql': None, 'psycopg2': None, 'jinja2': '2.10.3', 'IPython': '7.10.0', 'pandas_datareader': None, 'bs4': None, 'bottleneck': None, 'fastparquet': None, 'gcsfs': None, 'matplotlib': '3.1.2', 'numexpr': None, 'odfpy': None, 'openpyxl': None, 'pandas_gbq': None, 'pyarrow': None, 'pytables': None, 's3fs': None, 'scipy': '1.3.3', 'sqlalchemy': None, 'tables': None, 'xarray': None, 'xlrd': None, 'xlwt': None}}\n",
      "None\n"
     ]
    }
   ],
   "source": [
    "#Import and check the version of pandas\n",
    "\n",
    "import numpy as np\n",
    "import pandas as pd\n",
    "\n",
    "print(pd.__version__)\n",
    "print(pd.show_versions(as_json=True))"
   ]
  },
  {
   "cell_type": "code",
   "execution_count": 11,
   "metadata": {},
   "outputs": [
    {
     "name": "stdout",
     "output_type": "stream",
     "text": [
      "a    0\n",
      "b    1\n",
      "c    2\n",
      "d    3\n",
      "e    4\n",
      "dtype: int64\n"
     ]
    }
   ],
   "source": [
    "#Create list, arrays and dict.\n",
    "\n",
    "mylist = list('abcdefghijklmnñopqrstuvwxyz')\n",
    "myarr = np.arange(27)\n",
    "mydict = dict(zip(mylist, myarr))\n",
    "\n",
    "ser1 = pd.Series(mylist)\n",
    "ser2 = pd.Series(myarr)\n",
    "ser3 = pd.Series(mydict)\n",
    "\n",
    "print(ser3.head())"
   ]
  },
  {
   "cell_type": "code",
   "execution_count": 12,
   "metadata": {},
   "outputs": [
    {
     "name": "stdout",
     "output_type": "stream",
     "text": [
      "  index  0\n",
      "0     a  0\n",
      "1     b  1\n",
      "2     c  2\n",
      "3     d  3\n",
      "4     e  4\n"
     ]
    }
   ],
   "source": [
    "#Punt index into the dict to form a column\n",
    "\n",
    "dataframe = ser3.to_frame().reset_index()\n",
    "print(dataframe.head())"
   ]
  },
  {
   "cell_type": "code",
   "execution_count": 13,
   "metadata": {},
   "outputs": [
    {
     "name": "stdout",
     "output_type": "stream",
     "text": [
      "   0  1\n",
      "0  a  0\n",
      "1  b  1\n",
      "2  c  2\n",
      "3  d  3\n",
      "4  e  4\n"
     ]
    }
   ],
   "source": [
    "#Combinating the list and the array ser 1 and ser 2 to make a dataframe\n",
    "# Combaning series to form a df\n",
    "\n",
    "dataframe2 = pd.concat([ser1, ser2], axis=1)\n",
    "print(dataframe2.head())"
   ]
  },
  {
   "cell_type": "code",
   "execution_count": 15,
   "metadata": {},
   "outputs": [
    {
     "name": "stdout",
     "output_type": "stream",
     "text": [
      "  col1  col2\n",
      "0    a     0\n",
      "1    b     1\n",
      "2    c     2\n",
      "3    d     3\n",
      "4    e     4\n"
     ]
    }
   ],
   "source": [
    "#Combinating ser 1 and ser 2 another way\n",
    "\n",
    "dataframe2 = pd.DataFrame({'col1': ser1, 'col2': ser2})\n",
    "print(dataframe2.head())"
   ]
  },
  {
   "cell_type": "code",
   "execution_count": 16,
   "metadata": {},
   "outputs": [
    {
     "data": {
      "text/plain": [
       "0    a\n",
       "1    b\n",
       "2    c\n",
       "3    d\n",
       "4    e\n",
       "Name: Keyboard letters, dtype: object"
      ]
     },
     "execution_count": 16,
     "metadata": {},
     "output_type": "execute_result"
    }
   ],
   "source": [
    "#How to assign name to the series' index\n",
    "\n",
    "ser = pd.Series(list('abcdefghijklmnñopqrstuvwxyz'))\n",
    "\n",
    "ser.name = 'Keyboard letters'\n",
    "\n",
    "ser.head()"
   ]
  },
  {
   "cell_type": "code",
   "execution_count": 18,
   "metadata": {},
   "outputs": [
    {
     "data": {
      "text/plain": [
       "0    1\n",
       "1    2\n",
       "2    3\n",
       "dtype: int64"
      ]
     },
     "execution_count": 18,
     "metadata": {},
     "output_type": "execute_result"
    }
   ],
   "source": [
    "# Getting items from serie A not present in serie B\n",
    "#Therefore difeninig new series \n",
    "\n",
    "ser1 = pd.Series([1, 2, 3, 4, 5,])\n",
    "ser2 = pd.Series([4, 5, 6, 7, 8])\n",
    "\n",
    "ser1[~ser1.isin(ser2)]"
   ]
  },
  {
   "cell_type": "code",
   "execution_count": 21,
   "metadata": {},
   "outputs": [
    {
     "data": {
      "text/plain": [
       "2    6\n",
       "3    7\n",
       "4    8\n",
       "dtype: int64"
      ]
     },
     "execution_count": 21,
     "metadata": {},
     "output_type": "execute_result"
    }
   ],
   "source": [
    "#Now obtaining items in B not appearing in A\n",
    "\n",
    "ser2[~ser2.isin(ser1)]"
   ]
  },
  {
   "cell_type": "code",
   "execution_count": 23,
   "metadata": {},
   "outputs": [
    {
     "name": "stdout",
     "output_type": "stream",
     "text": [
      "0    1\n",
      "1    2\n",
      "2    3\n",
      "3    4\n",
      "4    5\n",
      "5    6\n",
      "6    7\n",
      "7    8\n",
      "dtype: int64\n",
      "0    4\n",
      "1    5\n",
      "dtype: int64\n"
     ]
    },
    {
     "data": {
      "text/plain": [
       "0    1\n",
       "1    2\n",
       "2    3\n",
       "5    6\n",
       "6    7\n",
       "7    8\n",
       "dtype: int64"
      ]
     },
     "execution_count": 23,
     "metadata": {},
     "output_type": "execute_result"
    }
   ],
   "source": [
    "# Now getting the items not comming to both series A and B\n",
    "\n",
    "ser_u = pd.Series(np.union1d(ser1, ser2))  # union conjuntos\n",
    "\n",
    "ser_i = pd.Series(np.intersect1d(ser1, ser2)) # intersect\n",
    "\n",
    "print(ser_u)\n",
    "print(ser_i)\n",
    "\n",
    "ser_u[~ser_u.isin(ser_i)]\n"
   ]
  },
  {
   "cell_type": "code",
   "execution_count": 24,
   "metadata": {},
   "outputs": [
    {
     "data": {
      "text/plain": [
       "array([ 2.34524547,  6.65375376,  9.60670017, 12.71518764, 18.5644261 ])"
      ]
     },
     "execution_count": 24,
     "metadata": {},
     "output_type": "execute_result"
    }
   ],
   "source": [
    "#Getting the minimum, 25th percentile, median, 75th, and max of a numeric series \n",
    "\n",
    "state = np.random.RandomState(100)\n",
    "ser = pd.Series(np.random.normal(10, 5, 25))\n",
    "\n",
    "np.percentile(ser, q=[0, 25, 50, 75, 100])\n"
   ]
  },
  {
   "cell_type": "code",
   "execution_count": 28,
   "metadata": {},
   "outputs": [
    {
     "data": {
      "text/plain": [
       "e    5\n",
       "d    5\n",
       "g    5\n",
       "a    4\n",
       "h    4\n",
       "c    3\n",
       "f    2\n",
       "b    2\n",
       "dtype: int64"
      ]
     },
     "execution_count": 28,
     "metadata": {},
     "output_type": "execute_result"
    }
   ],
   "source": [
    "#How to get frequency counts of unique items of a series\n",
    "\n",
    "ser = pd.Series(np.take(list('abcdefgh'), np.random.randint(8, size=30)))\n",
    "\n",
    "ser.value_counts()"
   ]
  },
  {
   "cell_type": "code",
   "execution_count": 30,
   "metadata": {},
   "outputs": [
    {
     "ename": "SyntaxError",
     "evalue": "invalid syntax (<ipython-input-30-94429068769d>, line 1)",
     "output_type": "error",
     "traceback": [
      "\u001b[1;36m  File \u001b[1;32m\"<ipython-input-30-94429068769d>\"\u001b[1;36m, line \u001b[1;32m1\u001b[0m\n\u001b[1;33m    git init\u001b[0m\n\u001b[1;37m           ^\u001b[0m\n\u001b[1;31mSyntaxError\u001b[0m\u001b[1;31m:\u001b[0m invalid syntax\n"
     ]
    }
   ],
   "source": [
    "git init\n",
    "git add *\n",
    "git commit -m \"First commit\"\n",
    "git remote add origin https://github.com/GabrielISB/JupyterNotebook.git\n",
    "git push -u origin master"
   ]
  },
  {
   "cell_type": "code",
   "execution_count": null,
   "metadata": {},
   "outputs": [],
   "source": []
  }
 ],
 "metadata": {
  "kernelspec": {
   "display_name": "Python 3",
   "language": "python",
   "name": "python3"
  },
  "language_info": {
   "codemirror_mode": {
    "name": "ipython",
    "version": 3
   },
   "file_extension": ".py",
   "mimetype": "text/x-python",
   "name": "python",
   "nbconvert_exporter": "python",
   "pygments_lexer": "ipython3",
   "version": "3.7.5"
  }
 },
 "nbformat": 4,
 "nbformat_minor": 2
}
